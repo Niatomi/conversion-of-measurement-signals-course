{
 "cells": [
  {
   "cell_type": "code",
   "execution_count": null,
   "metadata": {},
   "outputs": [],
   "source": [
    "# ! pip install -U matplotlib\n",
    "# ! pip install -U numpy\n",
    "# ! pip install -U scipy\n",
    "# ! pip install ipympl"
   ]
  },
  {
   "cell_type": "code",
   "execution_count": null,
   "metadata": {},
   "outputs": [],
   "source": [
    "import numpy as np\n",
    "import matplotlib.pyplot as plt\n",
    "%matplotlib widget"
   ]
  },
  {
   "cell_type": "code",
   "execution_count": null,
   "metadata": {},
   "outputs": [],
   "source": [
    "def plot(*args):\n",
    "    ax = plt.figure()\n",
    "    for idx in range(0, len(args), 2):\n",
    "        x, y = args[idx], args[idx + 1]\n",
    "        plt.plot(x, y)\n",
    "    plt.grid(True)\n",
    "    plt.ylabel('y')\n",
    "    plt.xlabel('x')\n",
    "    plt.show()"
   ]
  },
  {
   "cell_type": "markdown",
   "metadata": {},
   "source": [
    "### Частотно-временные способы анализа сигналов с применением преобразованием Фурье\n"
   ]
  },
  {
   "cell_type": "code",
   "execution_count": null,
   "metadata": {},
   "outputs": [],
   "source": [
    "def dft(array: np.ndarray) -> np.ndarray:\n",
    "    \"\"\" Discrete Fourier Transform\"\"\"\n",
    "    def discrete_fourier_function(\n",
    "        array: np.ndarray,\n",
    "        k: int\n",
    "    ) -> np.imag:\n",
    "\n",
    "        def F(item, n):\n",
    "            return item * np.e ** (\n",
    "                (-1) * ((2 * np.pi * k * n * 1j) /\n",
    "                        array.size - 1)\n",
    "            )\n",
    "\n",
    "        result = np.zeros(array.size, dtype=np.complex_)\n",
    "        for idx in range(array.size):\n",
    "            result[idx] = F(array[idx], idx)\n",
    "        return np.sum(result)\n",
    "\n",
    "    result = np.zeros(array.shape, dtype=np.complex_)\n",
    "    for idx in range(array.size):\n",
    "        result[idx] = discrete_fourier_function(array, idx)\n",
    "    return result"
   ]
  },
  {
   "cell_type": "code",
   "execution_count": null,
   "metadata": {},
   "outputs": [],
   "source": [
    "def spectrum(array: np.ndarray) -> np.ndarray:\n",
    "    tmp_freqs = np.abs(array)\n",
    "    tmp_freqs = tmp_freqs[tmp_freqs.size // 2:]\n",
    "    return 2 * tmp_freqs / array.size"
   ]
  },
  {
   "cell_type": "code",
   "execution_count": null,
   "metadata": {},
   "outputs": [],
   "source": [
    "def fragmentize(\n",
    "        array: np.ndarray,\n",
    "        size: int) -> np.ndarray:\n",
    "    fragments = np.array_split(array, range(size, array.size, size))\n",
    "    fragments = np.array(fragments)\n",
    "    return fragments"
   ]
  },
  {
   "cell_type": "code",
   "execution_count": null,
   "metadata": {},
   "outputs": [],
   "source": [
    "def stft(array: np.ndarray):\n",
    "    \"\"\"Short Timed Fourier Transform\"\"\"\n",
    "    tmp = []\n",
    "    for part in array:\n",
    "        tmp.append(spectrum(part))\n",
    "    return np.array(tmp)"
   ]
  },
  {
   "cell_type": "code",
   "execution_count": null,
   "metadata": {},
   "outputs": [],
   "source": [
    "def y(x):\n",
    "    if x < np.pi:\n",
    "        return np.sin(0.5 * 2 * np.pi * x)\n",
    "    else:\n",
    "        return np.sin(0.8 * 2 * np.pi * x)"
   ]
  },
  {
   "cell_type": "code",
   "execution_count": null,
   "metadata": {},
   "outputs": [],
   "source": [
    "def make_bins(values: np.ndarray):\n",
    "    \"\"\"\n",
    "    Создаём диапазоны для частей, \n",
    "    где за горизонтальное значение берётся\n",
    "    индекс части, а по вертикали не/попадание\n",
    "    в диапазон данных\n",
    "    \"\"\"\n",
    "    bins = np.linspace(np.min(values), np.max(values), num=100)\n",
    "    binned = np.zeros(shape=(bins.shape[0], values.shape[0]), dtype=np.int8)\n",
    "\n",
    "    for line_idx in range(len(values)):\n",
    "        for el_idx in range(values[line_idx].size):\n",
    "            \"\"\"Итерируемся по значениям частот\"\"\"\n",
    "            current_value = values[line_idx, el_idx]\n",
    "\n",
    "            for bin_idx in range(0, bins.size, 2):\n",
    "                high_value = bins[bin_idx + 1]\n",
    "                \"\"\"\n",
    "                Если частота попала в диапазон относительно\n",
    "                большего значения поддиапозона, то выставляем попадание\n",
    "                \"\"\"\n",
    "                if high_value >= current_value:\n",
    "                    binned[bin_idx - 1, line_idx] = 1\n",
    "                    break\n",
    "\n",
    "    \"\"\"Добавляем ещё одно значение для pcolormesh (иначе график не будет отрисовываться)\"\"\"\n",
    "    bins = np.append(bins, np.max(values) + bins[0] - bins[1])\n",
    "    return bins, binned"
   ]
  },
  {
   "cell_type": "code",
   "execution_count": null,
   "metadata": {},
   "outputs": [],
   "source": [
    "SAMPLES_COUNT = 50\n",
    "signal_array = np.zeros(SAMPLES_COUNT)\n",
    "for i in range(1, SAMPLES_COUNT):\n",
    "    signal_array[i - 1] = y((2 * np.pi * i) / SAMPLES_COUNT)\n",
    "\n",
    "SIZES = [1, 5, 10, 25, 50,]\n",
    "fig, axs = plt.subplots(nrows=1, ncols=len(SIZES), figsize=(15, 10))\n",
    "fig.tight_layout(pad=2.5)\n",
    "for idx, size in enumerate(SIZES):\n",
    "    fragment_size = size\n",
    "    fragments = fragmentize(signal_array, fragment_size)\n",
    "    stft_array = stft(fragments)\n",
    "\n",
    "    bins, values = make_bins(stft_array)\n",
    "    x_graph = np.arange(1, fragments.shape[0] + 2)\n",
    "    y_graph = bins\n",
    "    z_graph = values\n",
    "\n",
    "    axs[idx].set_title(f'Размер фрагмента: {fragment_size}')\n",
    "    axs[idx].set_ylabel(f'Частота')\n",
    "    axs[idx].set_xlabel(f'Номер фрагмента')\n",
    "    axs[idx].pcolormesh(\n",
    "        x_graph,\n",
    "        y_graph,\n",
    "        z_graph,\n",
    "        shading='flat',\n",
    "        vmin=stft_array.min(),\n",
    "        vmax=stft_array.max())"
   ]
  },
  {
   "cell_type": "markdown",
   "metadata": {},
   "source": [
    "### Оконное преобразование Фурье\n"
   ]
  },
  {
   "cell_type": "code",
   "execution_count": null,
   "metadata": {},
   "outputs": [],
   "source": [
    "def hem_window(N: int) -> np.ndarray:\n",
    "    result = np.arange(start=1, stop=N + 1)\n",
    "    result = 0.5 * (1 - np.cos(2 * ((np.pi * result)/(N - 1))))\n",
    "    return result"
   ]
  },
  {
   "cell_type": "code",
   "execution_count": null,
   "metadata": {},
   "outputs": [],
   "source": [
    "N = 10\n",
    "plot(np.arange(N), hem_window(N))"
   ]
  },
  {
   "cell_type": "code",
   "execution_count": null,
   "metadata": {},
   "outputs": [],
   "source": [
    "\n",
    "def wft(array: np.ndarray, m: int) -> np.ndarray:\n",
    "    \"\"\" Windowed Fourier Transform\"\"\"\n",
    "    def discrete_fourier_function(\n",
    "        array: np.ndarray,\n",
    "        hem_window_array: np.ndarray,\n",
    "        k: int,\n",
    "        m: int\n",
    "    ) -> np.imag:\n",
    "\n",
    "        def window(n: int, m: int):\n",
    "            if (\n",
    "                n - m >= 0\n",
    "                and\n",
    "                n - m < hem_window_array.size\n",
    "            ):\n",
    "                return hem_window_array[n - m + 1]\n",
    "            return 0\n",
    "\n",
    "        def F(item, n):\n",
    "            return item * window(n, m) * np.e ** (\n",
    "                (-1) * ((2 * np.pi * k * n * 1j) /\n",
    "                        array.size - 1)\n",
    "            )\n",
    "\n",
    "        result = np.zeros(array.size, dtype=np.complex_)\n",
    "        for idx in range(array.size):\n",
    "            result[idx] = F(array[idx], idx)\n",
    "        return np.sum(result)\n",
    "\n",
    "    result = np.zeros(array.shape, dtype=np.complex_)\n",
    "    for idx in range(array.size):\n",
    "        result[idx] = discrete_fourier_function(array, idx, m)\n",
    "    return result"
   ]
  },
  {
   "cell_type": "code",
   "execution_count": null,
   "metadata": {},
   "outputs": [],
   "source": [
    "def wsp(ar, m):\n",
    "    \"\"\" Windowed Spectrum \"\"\"\n",
    "\n",
    "    np.abs()"
   ]
  },
  {
   "cell_type": "code",
   "execution_count": null,
   "metadata": {},
   "outputs": [],
   "source": [
    "SAMPLES_COUNT = 30\n",
    "signal_array = np.zeros(SAMPLES_COUNT)\n",
    "for i in range(1, SAMPLES_COUNT):\n",
    "    signal_array[i - 1] = y((2 * np.pi * i) / SAMPLES_COUNT)"
   ]
  },
  {
   "cell_type": "code",
   "execution_count": null,
   "metadata": {},
   "outputs": [],
   "source": []
  }
 ],
 "metadata": {
  "kernelspec": {
   "display_name": "Python 3 (ipykernel)",
   "language": "python",
   "name": "python3"
  },
  "language_info": {
   "codemirror_mode": {
    "name": "ipython",
    "version": 3
   },
   "file_extension": ".py",
   "mimetype": "text/x-python",
   "name": "python",
   "nbconvert_exporter": "python",
   "pygments_lexer": "ipython3",
   "version": "3.8.18"
  }
 },
 "nbformat": 4,
 "nbformat_minor": 4
}
